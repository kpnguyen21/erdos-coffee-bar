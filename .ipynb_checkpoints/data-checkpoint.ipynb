{
 "cells": [
  {
   "cell_type": "markdown",
   "id": "1fcc6406-3082-4218-b954-ebc4592ed104",
   "metadata": {},
   "source": [
    "# University of Houston data"
   ]
  },
  {
   "cell_type": "markdown",
   "id": "e8180c64-e130-4b8e-99e2-1b35b48718cd",
   "metadata": {},
   "source": [
    "Create data frame using data from [The University of Houston website](https://www.uh.edu/ir/reports/statistical-handbook/student-enrollment/)"
   ]
  },
  {
   "cell_type": "markdown",
   "id": "ad6116ff-69ed-46ea-81a1-aca9d534f96e",
   "metadata": {},
   "source": [
    "## Student data"
   ]
  },
  {
   "cell_type": "code",
   "execution_count": 4,
   "id": "d01dc0d4-f287-4b0a-9020-2f274d34eec7",
   "metadata": {},
   "outputs": [
    {
     "data": {
      "text/plain": [
       "33"
      ]
     },
     "execution_count": 4,
     "metadata": {},
     "output_type": "execute_result"
    }
   ],
   "source": [
    "semester = []\n",
    "for i in range(2014, 2025):\n",
    "    semester.append('Spring ' + str(i))\n",
    "    semester.append('Summer ' + str(i))\n",
    "    semester.append('Fall ' + str(i))\n",
    "\n",
    "len(semester)"
   ]
  },
  {
   "cell_type": "code",
   "execution_count": null,
   "id": "9e867333-216d-4d2c-b1f2-4df454b48da7",
   "metadata": {},
   "outputs": [],
   "source": [
    "# enrollment\n",
    "total_enrollment = [37538, 14797, 40914, ]\n",
    "male = [18917, 7198, 20730, ]\n",
    "female = [18621, 7599, 20184, ]\n",
    "undergrad = [28535, 10463, 31722, ]\n",
    "postbac = [1234, 580, 1325, ]\n",
    "master = [4190, 1803, 4111, ]\n",
    "doctor = [2039, 1233, 2179, ]\n",
    "professional = [1540, 718, 1577, ]\n",
    "\n",
    "# average age\n",
    "age_undergrad_male = [23.4, 24.1, 23.1, ]\n",
    "age_undergrad_female = [23.1, 23.5, 22.8, ]\n",
    "age_postbac_male = [31, 30.5, 31.3, ]\n",
    "age_postbac_female = [30.3, 29.4, 30, ]\n",
    "age_master_male = [30.1, 31.3, 29.7, ]\n",
    "age_master_female = [29.7, 30.4, 29.5, ]\n",
    "age_doctor_male = [31, 30.3, 30.6, ]\n",
    "age_doctor_female = [32, 31.4, 31.7, ]\n",
    "age_special_profession_male = [27.9, 28.8, 27.4, ] \n",
    "age_special_profession_female =[26.8, 26.6, 26.2, ]\n",
    "age_opt_male = [26.4, 27.2, 26.2, ]\n",
    "age_opt_female = [25.5, 25.7, 25, ]\n",
    "age_pharm_male = [26.4, 26.9, 26, ]\n",
    "age_pharm_female = [25.1, 25.6, 24.7, ]\n",
    "\n",
    "# age counts\n",
    "age_undergrad_male_cnt = [14360, 5077, 16060, ]\n",
    "age_undergrad_female_cnt = [14175, 5386, 15662, ]\n",
    "age_postbac_male_cnt = [633, 267, 694, ]\n",
    "age_postbac_female_cnt = [601, 313, 631, ]\n",
    "age_master_male_cnt = [2154, 890, 2112, ]\n",
    "age_master_female_cnt = [2036, 913, 1999, ]\n",
    "age_doctor_male_cnt = [1082, 648, 1174, ]\n",
    "age_doctor_female_cnt = [957, 585, 1005, ]\n",
    "age_special_profession_male_cnt = [383, 154, 380, ] \n",
    "age_special_profession_female_cnt =[321, 121, 342, ]\n",
    "age_opt_male_cnt = [142, 70, 144, ]\n",
    "age_opt_female_cnt = [253, 129, 252, ]\n",
    "age_pharm_male_cnt = [163, 92, 166, ]\n",
    "age_pharm_female_cnt = [278, 152, 293, ]\n",
    "\n",
    "# race\n",
    "white = [11478, 4625, 11855, ]\n",
    "hispanic = [9686, 3590, 10994, ]\n",
    "asian_american = [7338, 2915, 8215, ]\n",
    "african_american = [3889, 1486, 4173, ]\n",
    "international = [3724, 1611, 4025, ]\n",
    "others = [1423, 570, 1652, ]"
   ]
  }
 ],
 "metadata": {
  "kernelspec": {
   "display_name": "python_prep",
   "language": "python",
   "name": "python_prep"
  },
  "language_info": {
   "codemirror_mode": {
    "name": "ipython",
    "version": 3
   },
   "file_extension": ".py",
   "mimetype": "text/x-python",
   "name": "python",
   "nbconvert_exporter": "python",
   "pygments_lexer": "ipython3",
   "version": "3.12.3"
  }
 },
 "nbformat": 4,
 "nbformat_minor": 5
}
